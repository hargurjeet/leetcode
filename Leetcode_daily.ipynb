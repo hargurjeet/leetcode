{
  "nbformat": 4,
  "nbformat_minor": 0,
  "metadata": {
    "colab": {
      "name": "Leetcode.ipynb",
      "provenance": [],
      "authorship_tag": "ABX9TyOnxc0tblxq1JTIozJCWJlM",
      "include_colab_link": true
    },
    "kernelspec": {
      "name": "python3",
      "display_name": "Python 3"
    },
    "language_info": {
      "name": "python"
    }
  },
  "cells": [
    {
      "cell_type": "markdown",
      "metadata": {
        "id": "view-in-github",
        "colab_type": "text"
      },
      "source": [
        "<a href=\"https://colab.research.google.com/github/hargurjeet/leetcode/blob/main/Leetcode_daily.ipynb\" target=\"_parent\"><img src=\"https://colab.research.google.com/assets/colab-badge.svg\" alt=\"Open In Colab\"/></a>"
      ]
    },
    {
      "cell_type": "code",
      "execution_count": 1,
      "metadata": {
        "id": "5QWq4wUu8V2j"
      },
      "outputs": [],
      "source": [
        "import pandas as pd\n",
        "import numpy as np"
      ]
    },
    {
      "cell_type": "code",
      "source": [
        "def countMatches(self, items: List[List[str]], ruleKey: str, ruleValue: str)"
      ],
      "metadata": {
        "id": "dfhfK5I_8crp"
      },
      "execution_count": null,
      "outputs": []
    }
  ]
}