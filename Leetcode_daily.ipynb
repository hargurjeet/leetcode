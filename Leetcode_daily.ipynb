{
  "nbformat": 4,
  "nbformat_minor": 0,
  "metadata": {
    "colab": {
      "name": "Leetcode.ipynb",
      "provenance": [],
      "authorship_tag": "ABX9TyNP/32bj71aIyOaAkfa5OeE",
      "include_colab_link": true
    },
    "kernelspec": {
      "name": "python3",
      "display_name": "Python 3"
    },
    "language_info": {
      "name": "python"
    }
  },
  "cells": [
    {
      "cell_type": "markdown",
      "metadata": {
        "id": "view-in-github",
        "colab_type": "text"
      },
      "source": [
        "<a href=\"https://colab.research.google.com/github/hargurjeet/leetcode/blob/main/Leetcode_daily.ipynb\" target=\"_parent\"><img src=\"https://colab.research.google.com/assets/colab-badge.svg\" alt=\"Open In Colab\"/></a>"
      ]
    },
    {
      "cell_type": "code",
      "execution_count": 1,
      "metadata": {
        "id": "5QWq4wUu8V2j"
      },
      "outputs": [],
      "source": [
        "import pandas as pd\n",
        "import numpy as np"
      ]
    },
    {
      "cell_type": "code",
      "source": [
        "items = [[\"phone\",\"blue\",\"pixel\"],[\"computer\",\"silver\",\"phone\"],[\"phone\",\"gold\",\"iphone\"]]\n",
        "ruleKey = \"type\"\n",
        "ruleValue = \"phone\"\n",
        "\n",
        "def countMatches(items, ruleKey, ruleValue):\n",
        "  count=0\n",
        "  for item in items:\n",
        "    if ruleKey == 'type' and ruleValue== item[0]:\n",
        "      count +=1\n",
        "    elif ruleKey == 'color' and ruleValue== item[1]:\n",
        "      count +=1\n",
        "    elif ruleKey == 'name' and ruleValue== item[2]:\n",
        "      count +=1\n",
        "\n",
        "  return count   \n",
        "  \n",
        "countMatches(items, ruleKey, ruleValue)"
      ],
      "metadata": {
        "id": "dfhfK5I_8crp",
        "outputId": "1b214cb5-ffbc-4172-bf47-0b631603abe6",
        "colab": {
          "base_uri": "https://localhost:8080/"
        }
      },
      "execution_count": 2,
      "outputs": [
        {
          "output_type": "execute_result",
          "data": {
            "text/plain": [
              "2"
            ]
          },
          "metadata": {},
          "execution_count": 2
        }
      ]
    },
    {
      "cell_type": "code",
      "source": [
        "# acaM8LLN5BhK9UL8"
      ],
      "metadata": {
        "id": "Odaeutt5BRZb"
      },
      "execution_count": 3,
      "outputs": []
    },
    {
      "cell_type": "code",
      "source": [
        "s = \"is2 sentence4 This1 a3\"\n",
        "\n",
        "def sortSentence(str):\n",
        "  result={}\n",
        "  for letter in s.split():\n",
        "    result[letter[-1]] = letter[:-1]\n",
        "\n",
        "  return ' '.join([result[values] for values in sorted(result.keys())])\n",
        "\n",
        "sortSentence(str)"
      ],
      "metadata": {
        "id": "xjy24TlmEKun"
      },
      "execution_count": null,
      "outputs": []
    },
    {
      "cell_type": "code",
      "source": [
        "nums = [-2,1,-3,4,-1,2,1,-5,4]\n",
        "\n",
        "def maxSubArray(nums):\n",
        "\n",
        "  cur = float('-inf')\n",
        "  theMax = float('-inf')\n",
        "        \n",
        "  for i in nums:\n",
        "      cur = max(i, i + cur)\n",
        "      theMax = max(cur, theMax)\n",
        "      print(cur, theMax)\n",
        "      \n",
        "      \n",
        "  return theMax\n",
        "\n",
        "\n",
        "maxSubArray(nums)"
      ],
      "metadata": {
        "id": "SIOnCHa5FGPc",
        "colab": {
          "base_uri": "https://localhost:8080/"
        },
        "outputId": "0db5ff94-1de7-4823-e684-5620486ace24"
      },
      "execution_count": 13,
      "outputs": [
        {
          "output_type": "stream",
          "name": "stdout",
          "text": [
            "-2 -2\n",
            "1 1\n",
            "-2 1\n",
            "4 4\n",
            "3 4\n",
            "5 5\n",
            "6 6\n",
            "1 6\n",
            "5 6\n"
          ]
        },
        {
          "output_type": "execute_result",
          "data": {
            "text/plain": [
              "6"
            ]
          },
          "metadata": {},
          "execution_count": 13
        }
      ]
    },
    {
      "cell_type": "code",
      "source": [
        ""
      ],
      "metadata": {
        "id": "Pt7LAgXvaa7A"
      },
      "execution_count": null,
      "outputs": []
    }
  ]
}