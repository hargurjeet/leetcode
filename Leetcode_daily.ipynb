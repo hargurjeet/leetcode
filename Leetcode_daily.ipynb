{
  "nbformat": 4,
  "nbformat_minor": 0,
  "metadata": {
    "colab": {
      "name": "Leetcode.ipynb",
      "provenance": [],
      "authorship_tag": "ABX9TyN6F32+wwt+WwytE9F3X783",
      "include_colab_link": true
    },
    "kernelspec": {
      "name": "python3",
      "display_name": "Python 3"
    },
    "language_info": {
      "name": "python"
    }
  },
  "cells": [
    {
      "cell_type": "markdown",
      "metadata": {
        "id": "view-in-github",
        "colab_type": "text"
      },
      "source": [
        "<a href=\"https://colab.research.google.com/github/hargurjeet/leetcode/blob/main/Leetcode_daily.ipynb\" target=\"_parent\"><img src=\"https://colab.research.google.com/assets/colab-badge.svg\" alt=\"Open In Colab\"/></a>"
      ]
    },
    {
      "cell_type": "code",
      "execution_count": null,
      "metadata": {
        "id": "5QWq4wUu8V2j"
      },
      "outputs": [],
      "source": [
        "import pandas as pd\n",
        "import numpy as np"
      ]
    },
    {
      "cell_type": "code",
      "source": [
        "items = [[\"phone\",\"blue\",\"pixel\"],[\"computer\",\"silver\",\"phone\"],[\"phone\",\"gold\",\"iphone\"]]\n",
        "ruleKey = \"type\"\n",
        "ruleValue = \"phone\"\n",
        "\n",
        "def countMatches(items, ruleKey, ruleValue):\n",
        "  count=0\n",
        "  for item in items:\n",
        "    if ruleKey == 'type' and ruleValue== item[0]:\n",
        "      count +=1\n",
        "    elif ruleKey == 'color' and ruleValue== item[1]:\n",
        "      count +=1\n",
        "    elif ruleKey == 'name' and ruleValue== item[2]:\n",
        "      count +=1\n",
        "\n",
        "  return count   \n",
        "  \n",
        "countMatches(items, ruleKey, ruleValue)"
      ],
      "metadata": {
        "id": "dfhfK5I_8crp",
        "outputId": "1b214cb5-ffbc-4172-bf47-0b631603abe6",
        "colab": {
          "base_uri": "https://localhost:8080/"
        }
      },
      "execution_count": null,
      "outputs": [
        {
          "output_type": "execute_result",
          "data": {
            "text/plain": [
              "2"
            ]
          },
          "metadata": {},
          "execution_count": 2
        }
      ]
    },
    {
      "cell_type": "code",
      "source": [
        "# acaM8LLN5BhK9UL8"
      ],
      "metadata": {
        "id": "Odaeutt5BRZb"
      },
      "execution_count": null,
      "outputs": []
    },
    {
      "cell_type": "code",
      "source": [
        "s = \"is2 sentence4 This1 a3\"\n",
        "\n",
        "def sortSentence(str):\n",
        "  result={}\n",
        "  for letter in s.split():\n",
        "    result[letter[-1]] = letter[:-1]\n",
        "\n",
        "  return ' '.join([result[values] for values in sorted(result.keys())])\n",
        "\n",
        "sortSentence(str)"
      ],
      "metadata": {
        "id": "xjy24TlmEKun"
      },
      "execution_count": null,
      "outputs": []
    },
    {
      "cell_type": "code",
      "source": [
        "nums = [-2,1,-3,4,-1,2,1,-5,4]\n",
        "\n",
        "def maxSubArray(nums):\n",
        "\n",
        "  cur = float('-inf')\n",
        "  theMax = float('-inf')\n",
        "        \n",
        "  for i in nums:\n",
        "      cur = max(i, i + cur)\n",
        "      theMax = max(cur, theMax)\n",
        "      print(cur, theMax)\n",
        "      \n",
        "      \n",
        "  return theMax\n",
        "\n",
        "\n",
        "maxSubArray(nums)"
      ],
      "metadata": {
        "id": "SIOnCHa5FGPc",
        "colab": {
          "base_uri": "https://localhost:8080/"
        },
        "outputId": "0db5ff94-1de7-4823-e684-5620486ace24"
      },
      "execution_count": null,
      "outputs": [
        {
          "output_type": "stream",
          "name": "stdout",
          "text": [
            "-2 -2\n",
            "1 1\n",
            "-2 1\n",
            "4 4\n",
            "3 4\n",
            "5 5\n",
            "6 6\n",
            "1 6\n",
            "5 6\n"
          ]
        },
        {
          "output_type": "execute_result",
          "data": {
            "text/plain": [
              "6"
            ]
          },
          "metadata": {},
          "execution_count": 13
        }
      ]
    },
    {
      "cell_type": "code",
      "source": [
        "import re\n",
        "\n",
        "s ='A man, a plan, a canal: Panama'\n",
        "x =  re.split(\"[^a-zA-Z]\", s)\n",
        "# x = re.split(\"[^A-Za-z0-9]\", s)\n",
        "x\n"
      ],
      "metadata": {
        "colab": {
          "base_uri": "https://localhost:8080/"
        },
        "id": "Pt7LAgXvaa7A",
        "outputId": "2d407489-61e1-4248-e479-fa60dfaa1fa2"
      },
      "execution_count": null,
      "outputs": [
        {
          "output_type": "execute_result",
          "data": {
            "text/plain": [
              "['A', 'man', '', 'a', 'plan', '', 'a', 'canal', '', 'Panama']"
            ]
          },
          "metadata": {},
          "execution_count": 21
        }
      ]
    },
    {
      "cell_type": "code",
      "source": [
        "y='stuff;thing;junk;'\n",
        "\n",
        "Z = y.split(';')\n",
        "Z"
      ],
      "metadata": {
        "colab": {
          "base_uri": "https://localhost:8080/"
        },
        "id": "Ur2Kb66IkMvj",
        "outputId": "e6ac3064-244b-452e-d64e-497fec04c387"
      },
      "execution_count": null,
      "outputs": [
        {
          "output_type": "execute_result",
          "data": {
            "text/plain": [
              "['stuff', 'thing', 'junk', '']"
            ]
          },
          "metadata": {},
          "execution_count": 5
        }
      ]
    },
    {
      "cell_type": "code",
      "source": [
        "list(reversed(range(1,11)))"
      ],
      "metadata": {
        "colab": {
          "base_uri": "https://localhost:8080/"
        },
        "id": "ssy-mXjFMZbe",
        "outputId": "a5122777-4ac4-4732-e371-9d12d832104e"
      },
      "execution_count": null,
      "outputs": [
        {
          "output_type": "execute_result",
          "data": {
            "text/plain": [
              "[10, 9, 8, 7, 6, 5, 4, 3, 2, 1]"
            ]
          },
          "metadata": {},
          "execution_count": 8
        }
      ]
    },
    {
      "cell_type": "code",
      "source": [
        "x = {1,2,3,4,5}\n",
        "x.add(5)\n",
        "x.add(6)"
      ],
      "metadata": {
        "id": "_fEikUU9M4xx"
      },
      "execution_count": null,
      "outputs": []
    },
    {
      "cell_type": "code",
      "source": [
        "x"
      ],
      "metadata": {
        "colab": {
          "base_uri": "https://localhost:8080/"
        },
        "id": "5xAJoc7uOnJ5",
        "outputId": "22260a09-a36f-4476-88f9-51358f9b34a7"
      },
      "execution_count": null,
      "outputs": [
        {
          "output_type": "execute_result",
          "data": {
            "text/plain": [
              "{1, 2, 3, 4, 5, 6}"
            ]
          },
          "metadata": {},
          "execution_count": 10
        }
      ]
    },
    {
      "cell_type": "code",
      "source": [
        "nums = [\"3\",\"6\",\"7\",\"10\"]\n",
        "\n",
        "# nums = [3,6,7,10]\n",
        "k = 4\n",
        "\n",
        "def kthLargestNumber(nums, k):\n",
        "  nums = [int(x) for x in nums]\n",
        "  nums = sorted(nums, reverse=True)\n",
        "  print(nums[k-1])\n",
        "\n",
        "kthLargestNumber(nums, k)"
      ],
      "metadata": {
        "colab": {
          "base_uri": "https://localhost:8080/"
        },
        "id": "7F1ZiywBOoLj",
        "outputId": "3e7e2799-9ec6-4d24-e38d-3e14b795c1c3"
      },
      "execution_count": null,
      "outputs": [
        {
          "output_type": "stream",
          "name": "stdout",
          "text": [
            "3\n"
          ]
        }
      ]
    },
    {
      "cell_type": "code",
      "source": [
        "fibonachi_series = 0, 1, 1, 2, 3, 5, 8, 13, 21, 34\n",
        "\n",
        "n=3\n",
        "def fib(n):\n",
        "  f_series=0\n",
        "  result=[]\n",
        "  for x in range(10):\n",
        "    f_series = f_series + x\n",
        "    result.append(f_series)\n",
        "  return result\n",
        "\n",
        "fib(n)\n"
      ],
      "metadata": {
        "colab": {
          "base_uri": "https://localhost:8080/"
        },
        "id": "31OFgJ7Th7D7",
        "outputId": "05390633-6e4c-4508-8245-d3e74f3708d0"
      },
      "execution_count": null,
      "outputs": [
        {
          "output_type": "execute_result",
          "data": {
            "text/plain": [
              "[0, 1, 3, 6, 10, 15, 21, 28, 36, 45]"
            ]
          },
          "metadata": {},
          "execution_count": 32
        }
      ]
    },
    {
      "cell_type": "code",
      "source": [
        "\n",
        "def fib(n):\n",
        "  a = 0\n",
        "  b = 1\n",
        "  if n ==1:\n",
        "    print(a)\n",
        "  else:\n",
        "    series=[a,b]\n",
        "  \n",
        "  for num in range(2,n):\n",
        "    c = a + b\n",
        "    a=b\n",
        "    b=c\n",
        "    print(series.append(c))\n",
        "\n",
        "fib(5)\n",
        "\n",
        "  "
      ],
      "metadata": {
        "colab": {
          "base_uri": "https://localhost:8080/"
        },
        "id": "ZGyEoZFElsiR",
        "outputId": "2282df85-ef07-4708-eff4-281ee2c3f7ce"
      },
      "execution_count": null,
      "outputs": [
        {
          "output_type": "stream",
          "name": "stdout",
          "text": [
            "None\n",
            "None\n",
            "None\n"
          ]
        }
      ]
    },
    {
      "cell_type": "code",
      "source": [
        "def fib(n):\n",
        "  if n<=1:\n",
        "    return n\n",
        "  else:\n",
        "    fibo_series=[0,1]\n",
        "    for i in range(2,n+1):\n",
        "      num = sum(fibo_series)\n",
        "      fibo_series[0]=fibo_series[1]\n",
        "      fibo_series[1]=num\n",
        "\n",
        "  return fibo_series[-1]\n",
        "\n",
        "\n",
        "\n",
        "fib(7)"
      ],
      "metadata": {
        "colab": {
          "base_uri": "https://localhost:8080/"
        },
        "id": "wuijQ1H1tN_g",
        "outputId": "a2a139e7-57df-433b-c399-4f60eaecf84e"
      },
      "execution_count": null,
      "outputs": [
        {
          "output_type": "execute_result",
          "data": {
            "text/plain": [
              "13"
            ]
          },
          "metadata": {},
          "execution_count": 22
        }
      ]
    },
    {
      "cell_type": "markdown",
      "source": [
        "# armstrong number"
      ],
      "metadata": {
        "id": "fG-UvosGY-xu"
      }
    },
    {
      "cell_type": "code",
      "source": [
        "n=1634\n",
        "def armstrong_number(n):\n",
        "  sum=0\n",
        "  l1 = [int(x) for x in str(n)]\n",
        "  \n",
        "  for x in l1:\n",
        "    sum += x**len(str(n))\n",
        "  return sum==n\n",
        "    \n",
        "\n",
        "armstrong_number(n)"
      ],
      "metadata": {
        "colab": {
          "base_uri": "https://localhost:8080/"
        },
        "id": "h_XD9WjZY-X1",
        "outputId": "af457861-eafa-4204-91c5-e3763b3f7450"
      },
      "execution_count": null,
      "outputs": [
        {
          "output_type": "execute_result",
          "data": {
            "text/plain": [
              "True"
            ]
          },
          "metadata": {},
          "execution_count": 38
        }
      ]
    },
    {
      "cell_type": "code",
      "source": [
        "strs = [\"flower\",\"flow\",\"flight\"]\n",
        "\n",
        "def longestCommonPrefix(strs):\n",
        "  pass\n",
        "\n",
        "longestCommonPrefix(strs)\n"
      ],
      "metadata": {
        "id": "WTmo052lWlnp"
      },
      "execution_count": null,
      "outputs": []
    },
    {
      "cell_type": "code",
      "source": [
        "min(strs)"
      ],
      "metadata": {
        "colab": {
          "base_uri": "https://localhost:8080/",
          "height": 35
        },
        "id": "UhB2TZ99Y74E",
        "outputId": "ab6b1ce1-0e4a-4f22-f450-e4d4bbc2d1c3"
      },
      "execution_count": null,
      "outputs": [
        {
          "output_type": "execute_result",
          "data": {
            "text/plain": [
              "'flight'"
            ],
            "application/vnd.google.colaboratory.intrinsic+json": {
              "type": "string"
            }
          },
          "metadata": {},
          "execution_count": 5
        }
      ]
    },
    {
      "cell_type": "code",
      "source": [
        "max(strs)"
      ],
      "metadata": {
        "colab": {
          "base_uri": "https://localhost:8080/",
          "height": 35
        },
        "id": "Ez850-3yZAGF",
        "outputId": "50812b6e-6b7c-4822-8b4d-f6c08acaa823"
      },
      "execution_count": null,
      "outputs": [
        {
          "output_type": "execute_result",
          "data": {
            "text/plain": [
              "'flower'"
            ],
            "application/vnd.google.colaboratory.intrinsic+json": {
              "type": "string"
            }
          },
          "metadata": {},
          "execution_count": 6
        }
      ]
    },
    {
      "cell_type": "code",
      "source": [
        "min_num_char = min([len(word) for word in strs])\n",
        "min_num_char\n",
        "\n",
        "for idx in range(min_num_char):\n",
        "  chars = [c[idx] for c in strs]\n",
        "  print(chars)"
      ],
      "metadata": {
        "colab": {
          "base_uri": "https://localhost:8080/"
        },
        "id": "ZWzSoLL6pSTO",
        "outputId": "593a3826-84a4-40d5-9482-523be59a65d2"
      },
      "execution_count": null,
      "outputs": [
        {
          "output_type": "stream",
          "name": "stdout",
          "text": [
            "['f', 'f', 'f']\n",
            "['l', 'l', 'l']\n",
            "['o', 'o', 'i']\n",
            "['w', 'w', 'g']\n"
          ]
        }
      ]
    },
    {
      "cell_type": "code",
      "source": [
        "nums1 = [1,2,3,0,0,0]\n",
        "m = 3\n",
        "nums2 = [2,5,6]\n",
        "n = 3\n",
        "\n",
        "def merge(nums1, m, nums2, n):\n",
        "  nums1 = nums1[:m]\n",
        "  result = nums1 + nums2\n",
        "  nums1 = nums1[:m]\n",
        "  nums1 = sorted(result)\n",
        "  return nums1\n",
        "\n",
        "merge(nums1, m, nums2, n)"
      ],
      "metadata": {
        "colab": {
          "base_uri": "https://localhost:8080/"
        },
        "id": "0Gs0iE2_qzgk",
        "outputId": "ed1743ad-1b1a-4ee0-be63-99f6ea36a198"
      },
      "execution_count": null,
      "outputs": [
        {
          "output_type": "execute_result",
          "data": {
            "text/plain": [
              "[1, 2, 2, 3, 5, 6]"
            ]
          },
          "metadata": {},
          "execution_count": 4
        }
      ]
    },
    {
      "cell_type": "code",
      "source": [
        "nums = [4,1,2,1,2]\n",
        "\n",
        "def singleNumber(nums):\n",
        "  from collections import Counter\n",
        "  count = Counter(nums)\n",
        "  for values in count.items():\n",
        "    if values[1]==1:\n",
        "       return values[0] \n",
        "  \n",
        "\n",
        "singleNumber(nums)"
      ],
      "metadata": {
        "colab": {
          "base_uri": "https://localhost:8080/"
        },
        "id": "3AvTFzGd9LeP",
        "outputId": "4d8165e3-710d-4296-fbf3-cdb3e3da12bd"
      },
      "execution_count": null,
      "outputs": [
        {
          "output_type": "execute_result",
          "data": {
            "text/plain": [
              "4"
            ]
          },
          "metadata": {},
          "execution_count": 26
        }
      ]
    },
    {
      "cell_type": "code",
      "source": [
        "nums = [1,2,3,1]\n",
        "\n",
        "def containsDuplicate(nums):\n",
        "  empty_list=[]\n",
        "  for x in nums:\n",
        "    if x not in empty_list:\n",
        "      empty_list.append(x)\n",
        "    else:\n",
        "      return True\n",
        "  return False\n",
        "    \n",
        "\n",
        "containsDuplicate(nums)\n"
      ],
      "metadata": {
        "colab": {
          "base_uri": "https://localhost:8080/"
        },
        "id": "0rhR4yjI_OCB",
        "outputId": "d16a6d14-377f-4535-ea04-74dc6b924726"
      },
      "execution_count": null,
      "outputs": [
        {
          "output_type": "execute_result",
          "data": {
            "text/plain": [
              "True"
            ]
          },
          "metadata": {},
          "execution_count": 5
        }
      ]
    },
    {
      "cell_type": "code",
      "source": [
        "nums = [1,2,3,1]\n",
        "\n",
        "def containsDuplicate(nums):\n",
        "  set1 = set(nums)\n",
        "  return len(set1)!=len(nums)\n",
        "\n",
        "containsDuplicate(nums)\n"
      ],
      "metadata": {
        "colab": {
          "base_uri": "https://localhost:8080/"
        },
        "id": "dZzbPGxC9Oal",
        "outputId": "0e348e78-52ea-4c85-a1ef-9bc49e5a0baa"
      },
      "execution_count": null,
      "outputs": [
        {
          "output_type": "execute_result",
          "data": {
            "text/plain": [
              "True"
            ]
          },
          "metadata": {},
          "execution_count": 7
        }
      ]
    },
    {
      "cell_type": "code",
      "source": [
        "nums = [2,2,1,1,1,2,2]\n",
        "\n",
        "def majorityElement(nums):\n",
        "  result=[0,0]\n",
        "  from collections import Counter\n",
        "  count = Counter(nums)\n",
        "  print(count.items())\n",
        "  for item in count.items():\n",
        "    if item[1]>result[1]:\n",
        "      result[1]=item[1]\n",
        "      result[0]=item[0]\n",
        "      # print(result[0]) \n",
        "\n",
        "  return result[0]\n",
        "\n",
        "majorityElement(nums)"
      ],
      "metadata": {
        "colab": {
          "base_uri": "https://localhost:8080/"
        },
        "id": "j2VaqziTAr_d",
        "outputId": "66a2ce10-106e-4392-9329-810cc6f0fc73"
      },
      "execution_count": null,
      "outputs": [
        {
          "output_type": "stream",
          "name": "stdout",
          "text": [
            "dict_items([(2, 4), (1, 3)])\n"
          ]
        },
        {
          "output_type": "execute_result",
          "data": {
            "text/plain": [
              "2"
            ]
          },
          "metadata": {},
          "execution_count": 14
        }
      ]
    },
    {
      "cell_type": "code",
      "source": [
        "nums = [1,2,3,1,2,3]\n",
        "k = 2\n",
        "\n",
        "def ontainsNearbyDuplicate(nums, k):\n",
        "  for i in range(len(nums)):       \n",
        "    for j in range(i+1, len(nums)):\n",
        "      if nums[i]==nums[j] and abs(i-j)<=k:\n",
        "        return True\n",
        "  return False\n",
        "\n",
        "ontainsNearbyDuplicate(nums, k)"
      ],
      "metadata": {
        "colab": {
          "base_uri": "https://localhost:8080/"
        },
        "id": "-yshkR8NDIc9",
        "outputId": "83f585f2-2d8e-421f-f648-e22e56590b7a"
      },
      "execution_count": null,
      "outputs": [
        {
          "output_type": "execute_result",
          "data": {
            "text/plain": [
              "False"
            ]
          },
          "metadata": {},
          "execution_count": 16
        }
      ]
    },
    {
      "cell_type": "code",
      "source": [
        "# nums = [1,2,3,1]\n",
        "# k = 3\n",
        "\n",
        "nums = [1,2,3,1,2,3]\n",
        "k = 2\n",
        "\n",
        "def ontainsNearbyDuplicate(nums, k):\n",
        "  found={}\n",
        "  for i, j in enumerate(nums): \n",
        "    if j in found:\n",
        "      if abs(i - found[j])<=k:\n",
        "        return True\n",
        "        found[j]=i\n",
        "    else:\n",
        "      found[j]=i\n",
        "    \n",
        "  return False\n",
        "\n",
        "ontainsNearbyDuplicate(nums, k)"
      ],
      "metadata": {
        "colab": {
          "base_uri": "https://localhost:8080/"
        },
        "id": "NMvUuelFjCUg",
        "outputId": "116f508f-238e-4561-8c8c-5f9fa8b43ef0"
      },
      "execution_count": null,
      "outputs": [
        {
          "output_type": "execute_result",
          "data": {
            "text/plain": [
              "{1: 0, 2: 1, 3: 2}"
            ]
          },
          "metadata": {},
          "execution_count": 21
        }
      ]
    },
    {
      "cell_type": "code",
      "source": [
        "nums=[1,2,3,4,5]"
      ],
      "metadata": {
        "id": "77kCUAx2jCOQ"
      },
      "execution_count": null,
      "outputs": []
    },
    {
      "cell_type": "code",
      "source": [
        "for i,j in enumerate(nums):\n",
        "  print(i, j)"
      ],
      "metadata": {
        "colab": {
          "base_uri": "https://localhost:8080/"
        },
        "id": "filN5YRWjB5d",
        "outputId": "00f59e0c-de0d-4221-d695-9a4a62f1f9a4"
      },
      "execution_count": null,
      "outputs": [
        {
          "output_type": "stream",
          "name": "stdout",
          "text": [
            "0 1\n",
            "1 2\n",
            "2 3\n",
            "3 4\n",
            "4 5\n"
          ]
        }
      ]
    },
    {
      "cell_type": "code",
      "source": [
        "nums = [1,2,3,1,2,3]\n",
        "k = 2\n",
        "\n",
        "def ontainsNearbyDuplicate(nums, k):\n",
        "  for i, j in zip(range(len(nums)), range(i+1, len(nums))):\n",
        "    \n",
        "    if nums[i]==nums[j] and abs(i-j)<=k:\n",
        "      print(i, j, abs(i-j))\n",
        "      return True\n",
        "  return False\n",
        "\n",
        "ontainsNearbyDuplicate(nums, k)"
      ],
      "metadata": {
        "id": "D1ADOZgPeG4p"
      },
      "execution_count": null,
      "outputs": []
    },
    {
      "cell_type": "code",
      "source": [
        "nums = [0,1,2,4,5,7]\n",
        "\n",
        "def summaryRanges(nums):\n",
        "  end = nums[-1]\n",
        "  p1=0\n",
        "  p2=0\n",
        "  i=0\n",
        "  result=[]\n",
        "  while (i<=end):\n",
        "    if nums[i]==i:\n",
        "      p1=nums[i]\n",
        "    else:\n",
        "      p2=i-1\n",
        "      result.append(p1)\n",
        "      result.append(p2)\n",
        "\n",
        "\n",
        "\n",
        "summaryRanges(nums)"
      ],
      "metadata": {
        "id": "IkEcDyLRa-vr"
      },
      "execution_count": null,
      "outputs": []
    },
    {
      "cell_type": "code",
      "source": [
        "nums = [9,6,4,2,3,5,7,0,1]\n",
        "\n",
        "def missingNumber(nums):\n",
        "  nums=sorted(nums)\n",
        "  print(nums)\n",
        "  for i, j in enumerate(nums):\n",
        "    if nums[i]==i:\n",
        "      pass\n",
        "    else:\n",
        "      return i\n",
        "\n",
        "missingNumber(nums)"
      ],
      "metadata": {
        "id": "Y6-Z2UVobLqz",
        "outputId": "8e97409b-bac8-429e-bbe5-ec99bbd2ed82",
        "colab": {
          "base_uri": "https://localhost:8080/"
        }
      },
      "execution_count": null,
      "outputs": [
        {
          "output_type": "stream",
          "name": "stdout",
          "text": [
            "[0, 1, 2, 3, 4, 5, 6, 7, 9]\n"
          ]
        },
        {
          "output_type": "execute_result",
          "data": {
            "text/plain": [
              "8"
            ]
          },
          "metadata": {},
          "execution_count": 6
        }
      ]
    },
    {
      "cell_type": "code",
      "source": [
        "nums = [4,3,2,7,8,2,3,1]\n",
        "\n",
        "def findDisappearedNumbers(nums):\n",
        "  a = set(nums)\n",
        "  b = set([x for x in range(1, len(nums)+1)])\n",
        "  print(a,b)\n",
        "  return b-a\n",
        "\n",
        "findDisappearedNumbers(nums)"
      ],
      "metadata": {
        "id": "PWNz7GMKgSDw",
        "colab": {
          "base_uri": "https://localhost:8080/"
        },
        "outputId": "5b60748d-e05f-40cc-dec1-e76caabd6cc2"
      },
      "execution_count": null,
      "outputs": [
        {
          "output_type": "stream",
          "name": "stdout",
          "text": [
            "{1, 2, 3, 4, 7, 8} {1, 2, 3, 4, 5, 6, 7, 8}\n"
          ]
        },
        {
          "output_type": "execute_result",
          "data": {
            "text/plain": [
              "{5, 6}"
            ]
          },
          "metadata": {},
          "execution_count": 5
        }
      ]
    },
    {
      "cell_type": "code",
      "source": [
        ""
      ],
      "metadata": {
        "id": "KQYsfq1urbN0"
      },
      "execution_count": null,
      "outputs": []
    },
    {
      "cell_type": "code",
      "source": [
        "g = [1,2,3]\n",
        "s = [1,1]\n",
        "\n",
        "def findContentChildren(g, s):\n",
        "  g.sort()\n",
        "  s.sort()\n",
        "  max_num = 0\n",
        "  for i in range(len(g)):\n",
        "      for j in range(len(s)):\n",
        "          if s[j] >= g[i]:\n",
        "              max_num += 1\n",
        "              s.remove(s[j])\n",
        "              break  \n",
        "  return max_num\n",
        "\n",
        "findContentChildren(g, s)\n",
        "\n"
      ],
      "metadata": {
        "colab": {
          "base_uri": "https://localhost:8080/"
        },
        "id": "MBEfUCTRgWUb",
        "outputId": "e837ad44-9810-446c-8f3e-1fa0075dacd4"
      },
      "execution_count": null,
      "outputs": [
        {
          "output_type": "execute_result",
          "data": {
            "text/plain": [
              "1"
            ]
          },
          "metadata": {},
          "execution_count": 10
        }
      ]
    },
    {
      "cell_type": "code",
      "source": [
        "pattern = \"abba\"\n",
        "s = \"dog cat cat dog\"\n",
        "\n",
        "def wordPattern(pattern, s):\n",
        "  pattern_list=list(pattern)\n",
        "  s_list=s.split()\n",
        "  s_coded=[]\n",
        "  def pattern_generator(input_pattern, input_pattern_list):\n",
        "    dic={}\n",
        "    pattern_coded=[]\n",
        "    for i in range(len(input_pattern)):\n",
        "      if input_pattern[i] not in dic:\n",
        "        dic[input_pattern[i]]=i\n",
        "    for item in input_pattern_list:\n",
        "      if item in dic.keys():\n",
        "        pattern_coded.append(dic[item])\n",
        "    return pattern_coded\n",
        "\n",
        "  coded_pattern = pattern_generator(pattern, pattern_list)\n",
        "  coded_stirng = pattern_generator(s_list, s_list)\n",
        "\n",
        "  if coded_pattern==coded_stirng:\n",
        "    return True\n",
        "  else:\n",
        "    return False\n",
        "\n",
        "wordPattern(pattern, s)"
      ],
      "metadata": {
        "colab": {
          "base_uri": "https://localhost:8080/"
        },
        "id": "54gvoYxhjd9r",
        "outputId": "ed73f682-e9a1-49b9-8818-cc53e2c6dbb1"
      },
      "execution_count": null,
      "outputs": [
        {
          "output_type": "execute_result",
          "data": {
            "text/plain": [
              "True"
            ]
          },
          "metadata": {},
          "execution_count": 14
        }
      ]
    },
    {
      "cell_type": "code",
      "source": [
        "l1 = [2,4,3]\n",
        "l2 = [5,6,4]\n",
        "\n",
        "def addTwoNumbers(l1, l2):\n",
        "  # l1=l1[::-1]\n",
        "  # l2=l2[::-1]\n",
        "  # l1 = [str(integer) for integer in l1]\n",
        "  # l1=int(''.join(l1))\n",
        "  # print(l1)\n",
        "  def utility_func(list1):\n",
        "    list1=[str(integer) for integer in list1[::-1]]\n",
        "    list1=int(''.join(list1))\n",
        "    return list1\n",
        "  l1 = utility_func(l1)\n",
        "  l2 = utility_func(l2)\n",
        "  result = list(str(l1+l2))\n",
        "  return result[::-1]\n",
        "\n",
        "\n",
        "addTwoNumbers(l1, l2)\n",
        "\n"
      ],
      "metadata": {
        "id": "L6tcPz1JjjAn",
        "outputId": "5d91d3bc-cbed-464a-bd51-e80b3bf65b1b",
        "colab": {
          "base_uri": "https://localhost:8080/"
        }
      },
      "execution_count": null,
      "outputs": [
        {
          "output_type": "execute_result",
          "data": {
            "text/plain": [
              "['7', '0', '8']"
            ]
          },
          "metadata": {},
          "execution_count": 25
        }
      ]
    },
    {
      "cell_type": "code",
      "source": [
        "sentence = ['this', 'is', 'a', 'sentence']\n",
        "sentence =  [2,4,3]\n",
        "'-'.join(sentence)"
      ],
      "metadata": {
        "id": "nTGNEmj-t9VM",
        "outputId": "242c5371-9892-4ccb-9042-3ece6a9a1822",
        "colab": {
          "base_uri": "https://localhost:8080/",
          "height": 35
        }
      },
      "execution_count": null,
      "outputs": [
        {
          "output_type": "execute_result",
          "data": {
            "text/plain": [
              "'[-2-,- -4-,- -3-]'"
            ],
            "application/vnd.google.colaboratory.intrinsic+json": {
              "type": "string"
            }
          },
          "metadata": {},
          "execution_count": 9
        }
      ]
    },
    {
      "cell_type": "code",
      "source": [
        "s = \"abcdefghi\"\n",
        "k = 3 \n",
        "fill = \"x\"\n",
        "\n",
        "def divideString(s, k, fill):\n",
        "  result=[]\n",
        "  start=0\n",
        "  if (len(s)%k ==0):\n",
        "    pass\n",
        "  else:\n",
        "    extra_str_start=len(s) - (len(s)%k)\n",
        "    while len(s[extra_str_start:])!=k:\n",
        "      s = s+fill\n",
        "    \n",
        "  for end in range(k, len(s)+1, k):\n",
        "    result.append(s[start:end])\n",
        "    start=end\n",
        "  return result\n",
        "\n",
        "divideString(s, k, fill)"
      ],
      "metadata": {
        "id": "gkiDvIVwvjDS",
        "outputId": "0b0deb9e-111b-4522-b205-12a20b09ac6d",
        "colab": {
          "base_uri": "https://localhost:8080/"
        }
      },
      "execution_count": null,
      "outputs": [
        {
          "output_type": "execute_result",
          "data": {
            "text/plain": [
              "['abc', 'def', 'ghi']"
            ]
          },
          "metadata": {},
          "execution_count": 33
        }
      ]
    },
    {
      "cell_type": "code",
      "source": [
        "score = [5,4,3,2,1]\n",
        "\n",
        "def findRelativeRanks(score):\n",
        "  medals=['Gold Medal','Silver Medal','Bronze Medal']\n",
        "  sorted_scores = sorted(score, reverse=True)\n",
        "  result=[]\n",
        "  if len(score)<=3:\n",
        "    for i in range(len(score)):\n",
        "      result.append(medals[i])\n",
        "  elif len(score)>3:\n",
        "    for i in range(3):\n",
        "      result.append(medals[i])\n",
        "    for j in range(4, len(score)+1):\n",
        "      result.append(str(j))\n",
        "\n",
        "  dict1={}\n",
        "  for i in range(len(sorted_scores)):\n",
        "    dict1[sorted_scores[i]]=result[i]\n",
        "  final_result=[]\n",
        "  for x in score:\n",
        "    final_result.append(dict1[x])\n",
        "\n",
        "  return final_result\n",
        "\n",
        "\n",
        "findRelativeRanks(score)"
      ],
      "metadata": {
        "id": "v-_josruNSTl",
        "outputId": "8e37e8b2-5ccf-4a32-9d09-8ca7351569b8",
        "colab": {
          "base_uri": "https://localhost:8080/"
        }
      },
      "execution_count": null,
      "outputs": [
        {
          "output_type": "execute_result",
          "data": {
            "text/plain": [
              "['Gold Medal', 'Silver Medal', 'Bronze Medal', '4', '5']"
            ]
          },
          "metadata": {},
          "execution_count": 29
        }
      ]
    },
    {
      "cell_type": "code",
      "source": [
        "dominoes = [[1,2],[1,2],[1,1],[1,2],[2,2]]\n",
        "\n",
        "def numEquivDominoPairs(dominoes):\n",
        "  count=0\n",
        "  for i in range(len(dominoes)-1):\n",
        "    for j in range(i+1, len(dominoes)):\n",
        "      if dominoes[i]==dominoes[j] or dominoes[i]==dominoes[j][::-1]:\n",
        "        count+=1\n",
        "  return count\n",
        "\n",
        "\n",
        "numEquivDominoPairs(dominoes)"
      ],
      "metadata": {
        "id": "iGrnzYrOcYNm",
        "outputId": "b5b476c3-f308-4e67-82af-991b3d5eb451",
        "colab": {
          "base_uri": "https://localhost:8080/"
        }
      },
      "execution_count": null,
      "outputs": [
        {
          "output_type": "execute_result",
          "data": {
            "text/plain": [
              "3"
            ]
          },
          "metadata": {},
          "execution_count": 20
        }
      ]
    },
    {
      "cell_type": "code",
      "source": [
        "dominoes = [[1,2],[2,1],[1,1],[1,2],[2,2]]\n",
        "\n",
        "def numEquivDominoPairs(dominoes):\n",
        "  d={}\n",
        "  c=0\n",
        "  for i in dominoes:\n",
        "    # print(i)\n",
        "    if i[0]<i[1]:\n",
        "      pass\n",
        "    else:\n",
        "      i[0],i[1] = i[1], i[0]\n",
        "\n",
        "    if (i[0], i[1]) not in d:\n",
        "        d[(i[0], i[1])] = 1\n",
        "    else:\n",
        "        d[(i[0], i[1])] += 1\n",
        "  print(d)\n",
        "  for j in d:\n",
        "    print(j)\n",
        "    if d[j] > 1:\n",
        "      print(d[j])\n",
        "      c += d[j] * (d[j] - 1) // 2\n",
        "  return c\n",
        "\n",
        "numEquivDominoPairs(dominoes)"
      ],
      "metadata": {
        "id": "BKGeb1d37SB0",
        "outputId": "fc41be0e-543e-493e-bfab-b9c699ee8160",
        "colab": {
          "base_uri": "https://localhost:8080/"
        }
      },
      "execution_count": null,
      "outputs": [
        {
          "output_type": "stream",
          "name": "stdout",
          "text": [
            "{(1, 2): 3, (1, 1): 1, (2, 2): 1}\n",
            "(1, 2)\n",
            "3\n",
            "(1, 1)\n",
            "(2, 2)\n"
          ]
        },
        {
          "output_type": "execute_result",
          "data": {
            "text/plain": [
              "3"
            ]
          },
          "metadata": {},
          "execution_count": 39
        }
      ]
    },
    {
      "cell_type": "code",
      "source": [
        "(3*2)//2"
      ],
      "metadata": {
        "id": "Zk8XEYft5CdI",
        "outputId": "874ce079-e8a5-4724-d654-198700b7784f",
        "colab": {
          "base_uri": "https://localhost:8080/"
        }
      },
      "execution_count": null,
      "outputs": [
        {
          "output_type": "execute_result",
          "data": {
            "text/plain": [
              "3"
            ]
          },
          "metadata": {},
          "execution_count": 42
        }
      ]
    },
    {
      "cell_type": "code",
      "source": [
        "list1 =[1,1,1, 2,3,4]\n",
        "list1.remove(1)\n",
        "list1"
      ],
      "metadata": {
        "id": "6PZqRHas_aAC",
        "outputId": "64c5ec0d-7978-4736-ccb7-d763972207bb",
        "colab": {
          "base_uri": "https://localhost:8080/"
        }
      },
      "execution_count": null,
      "outputs": [
        {
          "output_type": "execute_result",
          "data": {
            "text/plain": [
              "[1, 1, 2, 3, 4]"
            ]
          },
          "metadata": {},
          "execution_count": 2
        }
      ]
    },
    {
      "cell_type": "code",
      "source": [
        "dic = {'Harry': 37.21, 'Berry': 37.21, 'Tina': 37.2, 'Akriti': 41.0, 'Harsh': 39.0}\n",
        "dic.values()"
      ],
      "metadata": {
        "id": "cCpYGFBwqD01",
        "outputId": "43350b29-3094-43a2-c736-bd05b4e3c55e",
        "colab": {
          "base_uri": "https://localhost:8080/"
        }
      },
      "execution_count": null,
      "outputs": [
        {
          "output_type": "execute_result",
          "data": {
            "text/plain": [
              "dict_values([37.21, 37.21, 37.2, 41.0, 39.0])"
            ]
          },
          "metadata": {},
          "execution_count": 3
        }
      ]
    },
    {
      "cell_type": "code",
      "source": [
        "sorted(list(set(dic.values())), reverse=True) [1]"
      ],
      "metadata": {
        "id": "R8MekzAbqzCK",
        "outputId": "5eeb5839-9233-4d9e-ea17-d1c58060cda1",
        "colab": {
          "base_uri": "https://localhost:8080/"
        }
      },
      "execution_count": null,
      "outputs": [
        {
          "output_type": "execute_result",
          "data": {
            "text/plain": [
              "39.0"
            ]
          },
          "metadata": {},
          "execution_count": 7
        }
      ]
    },
    {
      "cell_type": "code",
      "source": [
        "dict1={'q': [25, 26.5, 28]}\n",
        "\n",
        "print('%.2f'%(sum(dict1['q'])/len(dict1['q'])))"
      ],
      "metadata": {
        "id": "8F-1OA8Iq3TC",
        "outputId": "6ee22e68-8e36-4674-b141-9e46b41af1a6",
        "colab": {
          "base_uri": "https://localhost:8080/"
        }
      },
      "execution_count": null,
      "outputs": [
        {
          "output_type": "stream",
          "name": "stdout",
          "text": [
            "26.50\n"
          ]
        }
      ]
    },
    {
      "cell_type": "code",
      "source": [
        "l1=[2,3,4,5,6]\n",
        "l2=[1,3,8,9]\n",
        "\n",
        "l1 = [ l1.remove(element) for element in l1 if element in l2 ]\n",
        "l1"
      ],
      "metadata": {
        "id": "fkJdpyc3sFWS",
        "outputId": "386c2c27-58c3-4f91-96ae-b41b1f8e040b",
        "colab": {
          "base_uri": "https://localhost:8080/"
        }
      },
      "execution_count": null,
      "outputs": [
        {
          "output_type": "execute_result",
          "data": {
            "text/plain": [
              "[None]"
            ]
          },
          "metadata": {},
          "execution_count": 17
        }
      ]
    },
    {
      "cell_type": "code",
      "source": [
        "l1=[2,3,4,5,6]\n",
        "l1.remove(2)\n",
        "l1"
      ],
      "metadata": {
        "id": "1kdaYjLD0V3l",
        "outputId": "59715cf5-eda4-47c6-d723-145d66e66903",
        "colab": {
          "base_uri": "https://localhost:8080/"
        }
      },
      "execution_count": null,
      "outputs": [
        {
          "output_type": "execute_result",
          "data": {
            "text/plain": [
              "[3, 4, 5, 6]"
            ]
          },
          "metadata": {},
          "execution_count": 12
        }
      ]
    },
    {
      "cell_type": "code",
      "source": [
        "l1=[2,3,4,5,6]\n",
        "l1 = [l1.remove(element) for element in l1 if element==2]\n",
        "l1"
      ],
      "metadata": {
        "id": "vSkIHtTQ2hvH",
        "outputId": "da78444e-5104-4ba4-f9d5-b462beec6c8f",
        "colab": {
          "base_uri": "https://localhost:8080/"
        }
      },
      "execution_count": null,
      "outputs": [
        {
          "output_type": "execute_result",
          "data": {
            "text/plain": [
              "[None]"
            ]
          },
          "metadata": {},
          "execution_count": 18
        }
      ]
    },
    {
      "cell_type": "code",
      "source": [
        "for element in l1:\n",
        "  if element==2:\n",
        "    l1.remove(2)\n",
        "\n",
        "l1"
      ],
      "metadata": {
        "id": "GzNGcOVy3vrL",
        "outputId": "02caf60c-64c9-4821-e9d6-62055a27b667",
        "colab": {
          "base_uri": "https://localhost:8080/"
        }
      },
      "execution_count": null,
      "outputs": [
        {
          "output_type": "execute_result",
          "data": {
            "text/plain": [
              "[None]"
            ]
          },
          "metadata": {},
          "execution_count": 20
        }
      ]
    },
    {
      "cell_type": "code",
      "source": [
        "l1=[2,3,4,5,6]\n",
        "a=2\n",
        "l1[a-1]"
      ],
      "metadata": {
        "id": "mYkYO7ut3voW",
        "outputId": "da877d3f-8bae-466e-958c-77cc39a2a55c",
        "colab": {
          "base_uri": "https://localhost:8080/"
        }
      },
      "execution_count": null,
      "outputs": [
        {
          "output_type": "execute_result",
          "data": {
            "text/plain": [
              "3"
            ]
          },
          "metadata": {},
          "execution_count": 2
        }
      ]
    },
    {
      "cell_type": "code",
      "source": [
        ""
      ],
      "metadata": {
        "id": "_RAOyoZwIC-q",
        "outputId": "4b9b70c2-ae0f-4b55-b080-c0aeaa8ce1c5",
        "colab": {
          "base_uri": "https://localhost:8080/"
        }
      },
      "execution_count": null,
      "outputs": [
        {
          "output_type": "stream",
          "name": "stdout",
          "text": [
            "[('a', 'a'), ('a', 'c'), ('a', 'd'), ('a', 'c'), ('a', 'd'), ('c', 'd')]\n",
            "0.833\n"
          ]
        }
      ]
    },
    {
      "cell_type": "code",
      "source": [
        "s = \"MCMXCIV\"\n",
        "\n",
        "\n",
        "def romanToInt(s):\n",
        "  dic1 ={'I':1, 'IV':4,'V':5,'X':10,'XL':40,'L':50 ,'XC':90,'C':100 ,'D':500 ,'M':1000}\n",
        "  sum=0\n",
        "  for romans in s:\n",
        "    \n",
        "    for items in dic1.keys():\n",
        "      if romans==items:\n",
        "        sum += dic1[items]\n",
        "  return sum\n",
        "\n",
        "\n",
        "romanToInt(s)"
      ],
      "metadata": {
        "id": "1ehgO2PNgSTJ",
        "outputId": "58c98e68-94a8-4ffc-bf1a-8cb53364d27e",
        "colab": {
          "base_uri": "https://localhost:8080/"
        }
      },
      "execution_count": null,
      "outputs": [
        {
          "output_type": "execute_result",
          "data": {
            "text/plain": [
              "2216"
            ]
          },
          "metadata": {},
          "execution_count": 11
        }
      ]
    },
    {
      "cell_type": "code",
      "source": [
        "word = \"abcdefd\"\n",
        "ch = \"d\"\n",
        "\n",
        "def reversePrefix(word, ch):\n",
        "  word=list(word)\n",
        "  \n",
        "  for i in range(word.index(ch)+1):\n",
        "    if word[i]==ch:\n",
        "      # print(word[:i+1], list(reversed(word[:i+1])))\n",
        "      word[:i+1] = list(reversed(word[:i+1]))\n",
        "    \n",
        "  return ''.join(word)\n",
        "\n",
        "reversePrefix(word, ch)"
      ],
      "metadata": {
        "id": "xU-IsWWcLkK3",
        "outputId": "6ce55035-4c46-4b5c-f821-843bef2b57da",
        "colab": {
          "base_uri": "https://localhost:8080/",
          "height": 36
        }
      },
      "execution_count": null,
      "outputs": [
        {
          "output_type": "execute_result",
          "data": {
            "text/plain": [
              "'dcbaefd'"
            ],
            "application/vnd.google.colaboratory.intrinsic+json": {
              "type": "string"
            }
          },
          "metadata": {},
          "execution_count": 45
        }
      ]
    },
    {
      "cell_type": "code",
      "source": [
        "seqTuple = ('g', 'e', 'e', 'k', 's')\n",
        "print(list(reversed(seqTuple)))\n",
        " \n",
        "# # For range\n",
        "# seqRange = range(1, 5)\n",
        "# print(list(reversed(seqRange)))"
      ],
      "metadata": {
        "id": "HtKRFlsS0AR4",
        "outputId": "9eab9fd4-037c-49ef-9f45-0a912e3457f3",
        "colab": {
          "base_uri": "https://localhost:8080/"
        }
      },
      "execution_count": null,
      "outputs": [
        {
          "output_type": "stream",
          "name": "stdout",
          "text": [
            "<reversed object at 0x7f0013811550>\n"
          ]
        }
      ]
    },
    {
      "cell_type": "code",
      "source": [
        "x='ab'\n",
        "y='abc'\n",
        "\n",
        "if x in y:\n",
        "  print(True)"
      ],
      "metadata": {
        "id": "onzSfvwi2DW4",
        "outputId": "ca7207a3-e8ce-4858-94af-869b99d42eab",
        "colab": {
          "base_uri": "https://localhost:8080/"
        }
      },
      "execution_count": null,
      "outputs": [
        {
          "output_type": "stream",
          "name": "stdout",
          "text": [
            "True\n"
          ]
        }
      ]
    },
    {
      "cell_type": "code",
      "source": [
        "s = \"Let's take LeetCode contest\"\n",
        "\n",
        "s=list(s.split(' '))\n",
        "print(s)"
      ],
      "metadata": {
        "id": "-Dodn3RJQtu-",
        "outputId": "3f5de189-fe50-4064-e27e-9855862685fd",
        "colab": {
          "base_uri": "https://localhost:8080/"
        }
      },
      "execution_count": null,
      "outputs": [
        {
          "output_type": "stream",
          "name": "stdout",
          "text": [
            "[\"Let's\", 'take', 'LeetCode', 'contest']\n"
          ]
        }
      ]
    },
    {
      "cell_type": "code",
      "source": [
        "vowel=['a', 'e', 'i', 'o', 'u', 'A', 'E', 'I', 'O', 'U']\n",
        "s = \"book\"\n",
        "\n",
        "dummy = ['o','k']\n",
        "\n",
        "if dummy in vowel:\n",
        "  print(True)"
      ],
      "metadata": {
        "id": "A-iyrtaHSA-_"
      },
      "execution_count": null,
      "outputs": []
    },
    {
      "cell_type": "code",
      "source": [
        "s = \"book\"\n",
        "\n",
        "def halvesAreAlike(s):\n",
        "  \"\"\"\n",
        "  :type s: str\n",
        "  :rtype: bool\n",
        "  \"\"\"\n",
        "  vowel=['a', 'e', 'i', 'o', 'u', 'A', 'E', 'I', 'O', 'U']\n",
        "\n",
        "  s=list(s)\n",
        "  a=len(s)//2\n",
        "  b=len(s)\n",
        "\n",
        "  def v_counter(list):\n",
        "    counter=0\n",
        "    for word in list:\n",
        "      if word in vowel:\n",
        "        counter +=1\n",
        "    return counter\n",
        "\n",
        "  a_vowel = v_counter(s[:a])\n",
        "  b_vowel = v_counter(s[a:b])\n",
        "\n",
        "  \n",
        "  if a_vowel==b_vowel:\n",
        "    return True\n",
        "\n",
        "  return False\n",
        "                \n",
        "  # return False\n",
        "\n",
        "halvesAreAlike(s)"
      ],
      "metadata": {
        "id": "mk737_hLZGax",
        "outputId": "bc4cd2cb-1e0c-46d7-c0ad-b28afe5bf37a",
        "colab": {
          "base_uri": "https://localhost:8080/"
        }
      },
      "execution_count": null,
      "outputs": [
        {
          "output_type": "execute_result",
          "data": {
            "text/plain": [
              "True"
            ]
          },
          "metadata": {},
          "execution_count": 20
        }
      ]
    },
    {
      "cell_type": "code",
      "source": [
        "s = \"a1b2c3d4e\"\n",
        "\n",
        "def replaceDigits(s):\n",
        "  alphabets =['a', 'b', 'c', 'd', 'e', 'f', 'g', 'h', 'i', 'j', 'k', 'l', 'm', 'n', 'o', 'p', 'q', 'r', 's', 't', 'u', 'v', 'w', 'x', 'y', 'z']\n",
        "  digits = ['1','2','3','4','5','6','7','8','9','0']\n",
        "\n",
        "  def shift_char(char, digit):\n",
        "    for i in range(len(alphabets)):\n",
        "      if alphabets[i]==char:\n",
        "        return alphabets[i+digit]\n",
        "    \n",
        "  s=list(s)\n",
        "  result=[]\n",
        "  for i in range(len(s)):\n",
        "    if s[i] in digits:\n",
        "      result.append(shift_char(s[i-1] , int(s[i])))\n",
        "    else:\n",
        "      result.append(s[i])\n",
        "\n",
        "  return ''.join(result)\n",
        "replaceDigits(s)"
      ],
      "metadata": {
        "id": "L2Hb8Rj3aSk7",
        "outputId": "eee904e4-981d-419b-a860-d230cd38f09d",
        "colab": {
          "base_uri": "https://localhost:8080/",
          "height": 36
        }
      },
      "execution_count": null,
      "outputs": [
        {
          "output_type": "execute_result",
          "data": {
            "text/plain": [
              "'abbdcfdhe'"
            ],
            "application/vnd.google.colaboratory.intrinsic+json": {
              "type": "string"
            }
          },
          "metadata": {},
          "execution_count": 8
        }
      ]
    },
    {
      "cell_type": "code",
      "source": [
        "1%2"
      ],
      "metadata": {
        "id": "suzFhjW-uQ3N",
        "outputId": "17f498e4-319a-4683-cd7b-c354a12a17e8",
        "colab": {
          "base_uri": "https://localhost:8080/"
        }
      },
      "execution_count": null,
      "outputs": [
        {
          "output_type": "execute_result",
          "data": {
            "text/plain": [
              "1"
            ]
          },
          "metadata": {},
          "execution_count": 1
        }
      ]
    },
    {
      "cell_type": "code",
      "source": [
        ""
      ],
      "metadata": {
        "id": "4-JTswtYDYyv"
      },
      "execution_count": null,
      "outputs": []
    }
  ]
}