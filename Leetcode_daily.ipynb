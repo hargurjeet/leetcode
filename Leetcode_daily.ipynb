{
  "nbformat": 4,
  "nbformat_minor": 0,
  "metadata": {
    "colab": {
      "name": "Leetcode.ipynb",
      "provenance": [],
      "authorship_tag": "ABX9TyOJO7CEIe3LbCg7AYR2MaWs",
      "include_colab_link": true
    },
    "kernelspec": {
      "name": "python3",
      "display_name": "Python 3"
    },
    "language_info": {
      "name": "python"
    }
  },
  "cells": [
    {
      "cell_type": "markdown",
      "metadata": {
        "id": "view-in-github",
        "colab_type": "text"
      },
      "source": [
        "<a href=\"https://colab.research.google.com/github/hargurjeet/leetcode/blob/main/Leetcode_daily.ipynb\" target=\"_parent\"><img src=\"https://colab.research.google.com/assets/colab-badge.svg\" alt=\"Open In Colab\"/></a>"
      ]
    },
    {
      "cell_type": "code",
      "execution_count": 1,
      "metadata": {
        "id": "5QWq4wUu8V2j"
      },
      "outputs": [],
      "source": [
        "import pandas as pd\n",
        "import numpy as np"
      ]
    },
    {
      "cell_type": "code",
      "source": [
        "items = [[\"phone\",\"blue\",\"pixel\"],[\"computer\",\"silver\",\"phone\"],[\"phone\",\"gold\",\"iphone\"]]\n",
        "ruleKey = \"type\"\n",
        "ruleValue = \"phone\"\n",
        "\n",
        "def countMatches(items, ruleKey, ruleValue):\n",
        "  count=0\n",
        "  for item in items:\n",
        "    if ruleKey == 'type' and ruleValue== item[0]:\n",
        "      count +=1\n",
        "    elif ruleKey == 'color' and ruleValue== item[1]:\n",
        "      count +=1\n",
        "    elif ruleKey == 'name' and ruleValue== item[2]:\n",
        "      count +=1\n",
        "\n",
        "  return count   \n",
        "  \n",
        "countMatches(items, ruleKey, ruleValue)"
      ],
      "metadata": {
        "id": "dfhfK5I_8crp",
        "outputId": "1b214cb5-ffbc-4172-bf47-0b631603abe6",
        "colab": {
          "base_uri": "https://localhost:8080/"
        }
      },
      "execution_count": 2,
      "outputs": [
        {
          "output_type": "execute_result",
          "data": {
            "text/plain": [
              "2"
            ]
          },
          "metadata": {},
          "execution_count": 2
        }
      ]
    },
    {
      "cell_type": "code",
      "source": [
        "# acaM8LLN5BhK9UL8"
      ],
      "metadata": {
        "id": "Odaeutt5BRZb"
      },
      "execution_count": 3,
      "outputs": []
    },
    {
      "cell_type": "code",
      "source": [
        "s = \"is2 sentence4 This1 a3\"\n",
        "\n",
        "def sortSentence(str):\n",
        "  result={}\n",
        "  for letter in s.split():\n",
        "    result[letter[-1]] = letter[:-1]\n",
        "\n",
        "  return ' '.join([result[values] for values in sorted(result.keys())])\n",
        "\n",
        "sortSentence(str)"
      ],
      "metadata": {
        "id": "xjy24TlmEKun"
      },
      "execution_count": null,
      "outputs": []
    },
    {
      "cell_type": "code",
      "source": [
        ""
      ],
      "metadata": {
        "id": "SIOnCHa5FGPc"
      },
      "execution_count": null,
      "outputs": []
    }
  ]
}