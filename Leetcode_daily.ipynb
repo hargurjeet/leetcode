{
  "nbformat": 4,
  "nbformat_minor": 0,
  "metadata": {
    "colab": {
      "name": "Leetcode.ipynb",
      "provenance": [],
      "authorship_tag": "ABX9TyMbPiv2JcpaWY6/xufhKPFW",
      "include_colab_link": true
    },
    "kernelspec": {
      "name": "python3",
      "display_name": "Python 3"
    },
    "language_info": {
      "name": "python"
    }
  },
  "cells": [
    {
      "cell_type": "markdown",
      "metadata": {
        "id": "view-in-github",
        "colab_type": "text"
      },
      "source": [
        "<a href=\"https://colab.research.google.com/github/hargurjeet/leetcode/blob/main/Leetcode_daily.ipynb\" target=\"_parent\"><img src=\"https://colab.research.google.com/assets/colab-badge.svg\" alt=\"Open In Colab\"/></a>"
      ]
    },
    {
      "cell_type": "code",
      "execution_count": 1,
      "metadata": {
        "id": "5QWq4wUu8V2j"
      },
      "outputs": [],
      "source": [
        "import pandas as pd\n",
        "import numpy as np"
      ]
    },
    {
      "cell_type": "code",
      "source": [
        "items = [[\"phone\",\"blue\",\"pixel\"],[\"computer\",\"silver\",\"phone\"],[\"phone\",\"gold\",\"iphone\"]]\n",
        "ruleKey = \"type\"\n",
        "ruleValue = \"phone\"\n",
        "\n",
        "def countMatches(items, ruleKey, ruleValue):\n",
        "  count=0\n",
        "  for item in items:\n",
        "    if ruleKey == 'type' and ruleValue== item[0]:\n",
        "      count +=1\n",
        "    elif ruleKey == 'color' and ruleValue== item[1]:\n",
        "      count +=1\n",
        "    elif ruleKey == 'name' and ruleValue== item[2]:\n",
        "      count +=1\n",
        "\n",
        "  return count   \n",
        "  \n",
        "countMatches(items, ruleKey, ruleValue)"
      ],
      "metadata": {
        "id": "dfhfK5I_8crp",
        "outputId": "1b214cb5-ffbc-4172-bf47-0b631603abe6",
        "colab": {
          "base_uri": "https://localhost:8080/"
        }
      },
      "execution_count": 2,
      "outputs": [
        {
          "output_type": "execute_result",
          "data": {
            "text/plain": [
              "2"
            ]
          },
          "metadata": {},
          "execution_count": 2
        }
      ]
    },
    {
      "cell_type": "code",
      "source": [
        "# acaM8LLN5BhK9UL8"
      ],
      "metadata": {
        "id": "Odaeutt5BRZb"
      },
      "execution_count": 3,
      "outputs": []
    },
    {
      "cell_type": "code",
      "source": [
        "s = \"is2 sentence4 This1 a3\"\n",
        "\n",
        "def sortSentence(str):\n",
        "  result={}\n",
        "  for letter in s.split():\n",
        "    result[letter[-1]] = letter[:-1]\n",
        "\n",
        "  return ' '.join([result[values] for values in sorted(result.keys())])\n",
        "\n",
        "sortSentence(str)"
      ],
      "metadata": {
        "id": "xjy24TlmEKun"
      },
      "execution_count": null,
      "outputs": []
    },
    {
      "cell_type": "code",
      "source": [
        "nums = [-2,1,-3,4,-1,2,1,-5,4]\n",
        "\n",
        "def maxSubArray(nums):\n",
        "\n",
        "  cur = float('-inf')\n",
        "  theMax = float('-inf')\n",
        "        \n",
        "  for i in nums:\n",
        "      cur = max(i, i + cur)\n",
        "      theMax = max(cur, theMax)\n",
        "      print(cur, theMax)\n",
        "      \n",
        "      \n",
        "  return theMax\n",
        "\n",
        "\n",
        "maxSubArray(nums)"
      ],
      "metadata": {
        "id": "SIOnCHa5FGPc",
        "colab": {
          "base_uri": "https://localhost:8080/"
        },
        "outputId": "0db5ff94-1de7-4823-e684-5620486ace24"
      },
      "execution_count": 13,
      "outputs": [
        {
          "output_type": "stream",
          "name": "stdout",
          "text": [
            "-2 -2\n",
            "1 1\n",
            "-2 1\n",
            "4 4\n",
            "3 4\n",
            "5 5\n",
            "6 6\n",
            "1 6\n",
            "5 6\n"
          ]
        },
        {
          "output_type": "execute_result",
          "data": {
            "text/plain": [
              "6"
            ]
          },
          "metadata": {},
          "execution_count": 13
        }
      ]
    },
    {
      "cell_type": "code",
      "source": [
        "import re\n",
        "\n",
        "s ='A man, a plan, a canal: Panama'\n",
        "x =  re.split(\"[^a-zA-Z]\", s)\n",
        "# x = re.split(\"[^A-Za-z0-9]\", s)\n",
        "x\n"
      ],
      "metadata": {
        "colab": {
          "base_uri": "https://localhost:8080/"
        },
        "id": "Pt7LAgXvaa7A",
        "outputId": "2d407489-61e1-4248-e479-fa60dfaa1fa2"
      },
      "execution_count": 21,
      "outputs": [
        {
          "output_type": "execute_result",
          "data": {
            "text/plain": [
              "['A', 'man', '', 'a', 'plan', '', 'a', 'canal', '', 'Panama']"
            ]
          },
          "metadata": {},
          "execution_count": 21
        }
      ]
    },
    {
      "cell_type": "code",
      "source": [
        "y='stuff;thing;junk;'\n",
        "\n",
        "Z = y.split(';')\n",
        "Z"
      ],
      "metadata": {
        "colab": {
          "base_uri": "https://localhost:8080/"
        },
        "id": "Ur2Kb66IkMvj",
        "outputId": "e6ac3064-244b-452e-d64e-497fec04c387"
      },
      "execution_count": 5,
      "outputs": [
        {
          "output_type": "execute_result",
          "data": {
            "text/plain": [
              "['stuff', 'thing', 'junk', '']"
            ]
          },
          "metadata": {},
          "execution_count": 5
        }
      ]
    },
    {
      "cell_type": "code",
      "source": [
        "list(reversed(range(1,11)))"
      ],
      "metadata": {
        "colab": {
          "base_uri": "https://localhost:8080/"
        },
        "id": "ssy-mXjFMZbe",
        "outputId": "a5122777-4ac4-4732-e371-9d12d832104e"
      },
      "execution_count": 8,
      "outputs": [
        {
          "output_type": "execute_result",
          "data": {
            "text/plain": [
              "[10, 9, 8, 7, 6, 5, 4, 3, 2, 1]"
            ]
          },
          "metadata": {},
          "execution_count": 8
        }
      ]
    },
    {
      "cell_type": "code",
      "source": [
        "x = {1,2,3,4,5}\n",
        "x.add(5)\n",
        "x.add(6)"
      ],
      "metadata": {
        "id": "_fEikUU9M4xx"
      },
      "execution_count": 9,
      "outputs": []
    },
    {
      "cell_type": "code",
      "source": [
        "x"
      ],
      "metadata": {
        "colab": {
          "base_uri": "https://localhost:8080/"
        },
        "id": "5xAJoc7uOnJ5",
        "outputId": "22260a09-a36f-4476-88f9-51358f9b34a7"
      },
      "execution_count": 10,
      "outputs": [
        {
          "output_type": "execute_result",
          "data": {
            "text/plain": [
              "{1, 2, 3, 4, 5, 6}"
            ]
          },
          "metadata": {},
          "execution_count": 10
        }
      ]
    },
    {
      "cell_type": "code",
      "source": [
        "nums = [\"3\",\"6\",\"7\",\"10\"]\n",
        "\n",
        "# nums = [3,6,7,10]\n",
        "k = 4\n",
        "\n",
        "def kthLargestNumber(nums, k):\n",
        "  nums = [int(x) for x in nums]\n",
        "  nums = sorted(nums, reverse=True)\n",
        "  print(nums[k-1])\n",
        "\n",
        "kthLargestNumber(nums, k)"
      ],
      "metadata": {
        "colab": {
          "base_uri": "https://localhost:8080/"
        },
        "id": "7F1ZiywBOoLj",
        "outputId": "3e7e2799-9ec6-4d24-e38d-3e14b795c1c3"
      },
      "execution_count": 21,
      "outputs": [
        {
          "output_type": "stream",
          "name": "stdout",
          "text": [
            "3\n"
          ]
        }
      ]
    },
    {
      "cell_type": "code",
      "source": [
        "fibonachi_series = 0, 1, 1, 2, 3, 5, 8, 13, 21, 34\n",
        "\n",
        "n=3\n",
        "def fib(n):\n",
        "  f_series=0\n",
        "  result=[]\n",
        "  for x in range(10):\n",
        "    f_series = f_series + x\n",
        "    result.append(f_series)\n",
        "  return result\n",
        "\n",
        "fib(n)\n"
      ],
      "metadata": {
        "colab": {
          "base_uri": "https://localhost:8080/"
        },
        "id": "31OFgJ7Th7D7",
        "outputId": "05390633-6e4c-4508-8245-d3e74f3708d0"
      },
      "execution_count": 32,
      "outputs": [
        {
          "output_type": "execute_result",
          "data": {
            "text/plain": [
              "[0, 1, 3, 6, 10, 15, 21, 28, 36, 45]"
            ]
          },
          "metadata": {},
          "execution_count": 32
        }
      ]
    },
    {
      "cell_type": "code",
      "source": [
        "\n",
        "def fib(n):\n",
        "  a = 0\n",
        "  b = 1\n",
        "  if n ==1:\n",
        "    print(a)\n",
        "  else:\n",
        "    series=[a,b]\n",
        "  \n",
        "  for num in range(2,n):\n",
        "    c = a + b\n",
        "    a=b\n",
        "    b=c\n",
        "    print(series.append(c))\n",
        "\n",
        "fib(5)\n",
        "\n",
        "  "
      ],
      "metadata": {
        "colab": {
          "base_uri": "https://localhost:8080/"
        },
        "id": "ZGyEoZFElsiR",
        "outputId": "2282df85-ef07-4708-eff4-281ee2c3f7ce"
      },
      "execution_count": 13,
      "outputs": [
        {
          "output_type": "stream",
          "name": "stdout",
          "text": [
            "None\n",
            "None\n",
            "None\n"
          ]
        }
      ]
    },
    {
      "cell_type": "code",
      "source": [
        "def fib(n):\n",
        "  if n<=1:\n",
        "    return n\n",
        "  else:\n",
        "    fibo_series=[0,1]\n",
        "    for i in range(2,n+1):\n",
        "      num = sum(fibo_series)\n",
        "      fibo_series[0]=fibo_series[1]\n",
        "      fibo_series[1]=num\n",
        "\n",
        "  return fibo_series[-1]\n",
        "\n",
        "\n",
        "\n",
        "fib(7)"
      ],
      "metadata": {
        "colab": {
          "base_uri": "https://localhost:8080/"
        },
        "id": "wuijQ1H1tN_g",
        "outputId": "a2a139e7-57df-433b-c399-4f60eaecf84e"
      },
      "execution_count": 22,
      "outputs": [
        {
          "output_type": "execute_result",
          "data": {
            "text/plain": [
              "13"
            ]
          },
          "metadata": {},
          "execution_count": 22
        }
      ]
    },
    {
      "cell_type": "markdown",
      "source": [
        "# armstrong number"
      ],
      "metadata": {
        "id": "fG-UvosGY-xu"
      }
    },
    {
      "cell_type": "code",
      "source": [
        "n=1634\n",
        "def armstrong_number(n):\n",
        "  sum=0\n",
        "  l1 = [int(x) for x in str(n)]\n",
        "  \n",
        "  for x in l1:\n",
        "    sum += x**len(str(n))\n",
        "  return sum==n\n",
        "    \n",
        "\n",
        "armstrong_number(n)"
      ],
      "metadata": {
        "colab": {
          "base_uri": "https://localhost:8080/"
        },
        "id": "h_XD9WjZY-X1",
        "outputId": "af457861-eafa-4204-91c5-e3763b3f7450"
      },
      "execution_count": 38,
      "outputs": [
        {
          "output_type": "execute_result",
          "data": {
            "text/plain": [
              "True"
            ]
          },
          "metadata": {},
          "execution_count": 38
        }
      ]
    },
    {
      "cell_type": "code",
      "source": [
        "strs = [\"flower\",\"flow\",\"flight\"]\n",
        "\n",
        "def longestCommonPrefix(strs):\n",
        "  pass\n",
        "\n",
        "longestCommonPrefix(strs)\n"
      ],
      "metadata": {
        "id": "WTmo052lWlnp"
      },
      "execution_count": 4,
      "outputs": []
    },
    {
      "cell_type": "code",
      "source": [
        "min(strs)"
      ],
      "metadata": {
        "colab": {
          "base_uri": "https://localhost:8080/",
          "height": 35
        },
        "id": "UhB2TZ99Y74E",
        "outputId": "ab6b1ce1-0e4a-4f22-f450-e4d4bbc2d1c3"
      },
      "execution_count": 5,
      "outputs": [
        {
          "output_type": "execute_result",
          "data": {
            "text/plain": [
              "'flight'"
            ],
            "application/vnd.google.colaboratory.intrinsic+json": {
              "type": "string"
            }
          },
          "metadata": {},
          "execution_count": 5
        }
      ]
    },
    {
      "cell_type": "code",
      "source": [
        "max(strs)"
      ],
      "metadata": {
        "colab": {
          "base_uri": "https://localhost:8080/",
          "height": 35
        },
        "id": "Ez850-3yZAGF",
        "outputId": "50812b6e-6b7c-4822-8b4d-f6c08acaa823"
      },
      "execution_count": 6,
      "outputs": [
        {
          "output_type": "execute_result",
          "data": {
            "text/plain": [
              "'flower'"
            ],
            "application/vnd.google.colaboratory.intrinsic+json": {
              "type": "string"
            }
          },
          "metadata": {},
          "execution_count": 6
        }
      ]
    },
    {
      "cell_type": "code",
      "source": [
        "min_num_char = min([len(word) for word in strs])\n",
        "min_num_char\n",
        "\n",
        "for idx in range(min_num_char):\n",
        "  chars = [c[idx] for c in strs]\n",
        "  print(chars)"
      ],
      "metadata": {
        "colab": {
          "base_uri": "https://localhost:8080/"
        },
        "id": "ZWzSoLL6pSTO",
        "outputId": "593a3826-84a4-40d5-9482-523be59a65d2"
      },
      "execution_count": 9,
      "outputs": [
        {
          "output_type": "stream",
          "name": "stdout",
          "text": [
            "['f', 'f', 'f']\n",
            "['l', 'l', 'l']\n",
            "['o', 'o', 'i']\n",
            "['w', 'w', 'g']\n"
          ]
        }
      ]
    },
    {
      "cell_type": "code",
      "source": [
        "nums1 = [1,2,3,0,0,0]\n",
        "m = 3\n",
        "nums2 = [2,5,6]\n",
        "n = 3\n",
        "\n",
        "def merge(nums1, m, nums2, n):\n",
        "  nums1 = nums1[:m]\n",
        "  result = nums1 + nums2\n",
        "  nums1 = nums1[:m]\n",
        "  nums1 = sorted(result)\n",
        "  return nums1\n",
        "\n",
        "merge(nums1, m, nums2, n)"
      ],
      "metadata": {
        "colab": {
          "base_uri": "https://localhost:8080/"
        },
        "id": "0Gs0iE2_qzgk",
        "outputId": "ed1743ad-1b1a-4ee0-be63-99f6ea36a198"
      },
      "execution_count": 4,
      "outputs": [
        {
          "output_type": "execute_result",
          "data": {
            "text/plain": [
              "[1, 2, 2, 3, 5, 6]"
            ]
          },
          "metadata": {},
          "execution_count": 4
        }
      ]
    },
    {
      "cell_type": "code",
      "source": [
        "nums = [4,1,2,1,2]\n",
        "\n",
        "def singleNumber(nums):\n",
        "  from collections import Counter\n",
        "  count = Counter(nums)\n",
        "  for values in count.items():\n",
        "    if values[1]==1:\n",
        "       return values[0] \n",
        "  \n",
        "\n",
        "singleNumber(nums)"
      ],
      "metadata": {
        "colab": {
          "base_uri": "https://localhost:8080/"
        },
        "id": "3AvTFzGd9LeP",
        "outputId": "4d8165e3-710d-4296-fbf3-cdb3e3da12bd"
      },
      "execution_count": 26,
      "outputs": [
        {
          "output_type": "execute_result",
          "data": {
            "text/plain": [
              "4"
            ]
          },
          "metadata": {},
          "execution_count": 26
        }
      ]
    },
    {
      "cell_type": "code",
      "source": [
        "nums = [1,2,3,1]\n",
        "\n",
        "def containsDuplicate(nums):\n",
        "  empty_list=[]\n",
        "  for x in nums:\n",
        "    if x not in empty_list:\n",
        "      empty_list.append(x)\n",
        "    else:\n",
        "      return True\n",
        "  return False\n",
        "    \n",
        "\n",
        "containsDuplicate(nums)\n"
      ],
      "metadata": {
        "colab": {
          "base_uri": "https://localhost:8080/"
        },
        "id": "0rhR4yjI_OCB",
        "outputId": "d16a6d14-377f-4535-ea04-74dc6b924726"
      },
      "execution_count": 5,
      "outputs": [
        {
          "output_type": "execute_result",
          "data": {
            "text/plain": [
              "True"
            ]
          },
          "metadata": {},
          "execution_count": 5
        }
      ]
    },
    {
      "cell_type": "code",
      "source": [
        "nums = [1,2,3,1]\n",
        "\n",
        "def containsDuplicate(nums):\n",
        "  set1 = set(nums)\n",
        "  return len(set1)!=len(nums)\n",
        "\n",
        "containsDuplicate(nums)\n"
      ],
      "metadata": {
        "colab": {
          "base_uri": "https://localhost:8080/"
        },
        "id": "dZzbPGxC9Oal",
        "outputId": "0e348e78-52ea-4c85-a1ef-9bc49e5a0baa"
      },
      "execution_count": 7,
      "outputs": [
        {
          "output_type": "execute_result",
          "data": {
            "text/plain": [
              "True"
            ]
          },
          "metadata": {},
          "execution_count": 7
        }
      ]
    },
    {
      "cell_type": "code",
      "source": [
        "nums = [2,2,1,1,1,2,2]\n",
        "\n",
        "def majorityElement(nums):\n",
        "  result=[0,0]\n",
        "  from collections import Counter\n",
        "  count = Counter(nums)\n",
        "  print(count.items())\n",
        "  for item in count.items():\n",
        "    if item[1]>result[1]:\n",
        "      result[1]=item[1]\n",
        "      result[0]=item[0]\n",
        "      # print(result[0]) \n",
        "\n",
        "  return result[0]\n",
        "\n",
        "majorityElement(nums)"
      ],
      "metadata": {
        "colab": {
          "base_uri": "https://localhost:8080/"
        },
        "id": "j2VaqziTAr_d",
        "outputId": "66a2ce10-106e-4392-9329-810cc6f0fc73"
      },
      "execution_count": 14,
      "outputs": [
        {
          "output_type": "stream",
          "name": "stdout",
          "text": [
            "dict_items([(2, 4), (1, 3)])\n"
          ]
        },
        {
          "output_type": "execute_result",
          "data": {
            "text/plain": [
              "2"
            ]
          },
          "metadata": {},
          "execution_count": 14
        }
      ]
    },
    {
      "cell_type": "code",
      "source": [
        "nums = [1,2,3,1,2,3]\n",
        "k = 2\n",
        "\n",
        "def ontainsNearbyDuplicate(nums, k):\n",
        "  for i in range(len(nums)):       \n",
        "    for j in range(i+1, len(nums)):\n",
        "      if nums[i]==nums[j] and abs(i-j)<=k:\n",
        "        return True\n",
        "  return False\n",
        "\n",
        "ontainsNearbyDuplicate(nums, k)"
      ],
      "metadata": {
        "colab": {
          "base_uri": "https://localhost:8080/"
        },
        "id": "-yshkR8NDIc9",
        "outputId": "83f585f2-2d8e-421f-f648-e22e56590b7a"
      },
      "execution_count": 16,
      "outputs": [
        {
          "output_type": "execute_result",
          "data": {
            "text/plain": [
              "False"
            ]
          },
          "metadata": {},
          "execution_count": 16
        }
      ]
    },
    {
      "cell_type": "code",
      "source": [
        "# nums = [1,2,3,1]\n",
        "# k = 3\n",
        "\n",
        "nums = [1,2,3,1,2,3]\n",
        "k = 2\n",
        "\n",
        "def ontainsNearbyDuplicate(nums, k):\n",
        "  found={}\n",
        "  for i, j in enumerate(nums): \n",
        "    if j in found:\n",
        "      if abs(i - found[j])<=k:\n",
        "        return True\n",
        "        found[j]=i\n",
        "    else:\n",
        "      found[j]=i\n",
        "    \n",
        "  return False\n",
        "\n",
        "ontainsNearbyDuplicate(nums, k)"
      ],
      "metadata": {
        "id": "NMvUuelFjCUg",
        "outputId": "116f508f-238e-4561-8c8c-5f9fa8b43ef0",
        "colab": {
          "base_uri": "https://localhost:8080/"
        }
      },
      "execution_count": 21,
      "outputs": [
        {
          "output_type": "execute_result",
          "data": {
            "text/plain": [
              "{1: 0, 2: 1, 3: 2}"
            ]
          },
          "metadata": {},
          "execution_count": 21
        }
      ]
    },
    {
      "cell_type": "code",
      "source": [
        ""
      ],
      "metadata": {
        "id": "77kCUAx2jCOQ"
      },
      "execution_count": null,
      "outputs": []
    },
    {
      "cell_type": "code",
      "source": [
        ""
      ],
      "metadata": {
        "id": "filN5YRWjB5d"
      },
      "execution_count": null,
      "outputs": []
    },
    {
      "cell_type": "code",
      "source": [
        "nums = [1,2,3,1,2,3]\n",
        "k = 2\n",
        "\n",
        "def ontainsNearbyDuplicate(nums, k):\n",
        "  for i, j in zip(range(len(nums)), range(i+1, len(nums))):\n",
        "    \n",
        "    if nums[i]==nums[j] and abs(i-j)<=k:\n",
        "      print(i, j, abs(i-j))\n",
        "      return True\n",
        "  return False\n",
        "\n",
        "ontainsNearbyDuplicate(nums, k)"
      ],
      "metadata": {
        "colab": {
          "base_uri": "https://localhost:8080/",
          "height": 322
        },
        "id": "D1ADOZgPeG4p",
        "outputId": "ec51c40e-5947-489d-9f0e-bfd35f621dbc"
      },
      "execution_count": 6,
      "outputs": [
        {
          "output_type": "error",
          "ename": "UnboundLocalError",
          "evalue": "ignored",
          "traceback": [
            "\u001b[0;31m---------------------------------------------------------------------------\u001b[0m",
            "\u001b[0;31mUnboundLocalError\u001b[0m                         Traceback (most recent call last)",
            "\u001b[0;32m<ipython-input-6-c8e836792331>\u001b[0m in \u001b[0;36m<module>\u001b[0;34m()\u001b[0m\n\u001b[1;32m     10\u001b[0m   \u001b[0;32mreturn\u001b[0m \u001b[0;32mFalse\u001b[0m\u001b[0;34m\u001b[0m\u001b[0;34m\u001b[0m\u001b[0m\n\u001b[1;32m     11\u001b[0m \u001b[0;34m\u001b[0m\u001b[0m\n\u001b[0;32m---> 12\u001b[0;31m \u001b[0montainsNearbyDuplicate\u001b[0m\u001b[0;34m(\u001b[0m\u001b[0mnums\u001b[0m\u001b[0;34m,\u001b[0m \u001b[0mk\u001b[0m\u001b[0;34m)\u001b[0m\u001b[0;34m\u001b[0m\u001b[0;34m\u001b[0m\u001b[0m\n\u001b[0m",
            "\u001b[0;32m<ipython-input-6-c8e836792331>\u001b[0m in \u001b[0;36montainsNearbyDuplicate\u001b[0;34m(nums, k)\u001b[0m\n\u001b[1;32m      3\u001b[0m \u001b[0;34m\u001b[0m\u001b[0m\n\u001b[1;32m      4\u001b[0m \u001b[0;32mdef\u001b[0m \u001b[0montainsNearbyDuplicate\u001b[0m\u001b[0;34m(\u001b[0m\u001b[0mnums\u001b[0m\u001b[0;34m,\u001b[0m \u001b[0mk\u001b[0m\u001b[0;34m)\u001b[0m\u001b[0;34m:\u001b[0m\u001b[0;34m\u001b[0m\u001b[0;34m\u001b[0m\u001b[0m\n\u001b[0;32m----> 5\u001b[0;31m   \u001b[0;32mfor\u001b[0m \u001b[0mi\u001b[0m\u001b[0;34m,\u001b[0m \u001b[0mj\u001b[0m \u001b[0;32min\u001b[0m \u001b[0mzip\u001b[0m\u001b[0;34m(\u001b[0m\u001b[0mrange\u001b[0m\u001b[0;34m(\u001b[0m\u001b[0mlen\u001b[0m\u001b[0;34m(\u001b[0m\u001b[0mnums\u001b[0m\u001b[0;34m)\u001b[0m\u001b[0;34m)\u001b[0m\u001b[0;34m,\u001b[0m \u001b[0mrange\u001b[0m\u001b[0;34m(\u001b[0m\u001b[0mi\u001b[0m\u001b[0;34m+\u001b[0m\u001b[0;36m1\u001b[0m\u001b[0;34m,\u001b[0m \u001b[0mlen\u001b[0m\u001b[0;34m(\u001b[0m\u001b[0mnums\u001b[0m\u001b[0;34m)\u001b[0m\u001b[0;34m)\u001b[0m\u001b[0;34m)\u001b[0m\u001b[0;34m:\u001b[0m\u001b[0;34m\u001b[0m\u001b[0;34m\u001b[0m\u001b[0m\n\u001b[0m\u001b[1;32m      6\u001b[0m \u001b[0;34m\u001b[0m\u001b[0m\n\u001b[1;32m      7\u001b[0m     \u001b[0;32mif\u001b[0m \u001b[0mnums\u001b[0m\u001b[0;34m[\u001b[0m\u001b[0mi\u001b[0m\u001b[0;34m]\u001b[0m\u001b[0;34m==\u001b[0m\u001b[0mnums\u001b[0m\u001b[0;34m[\u001b[0m\u001b[0mj\u001b[0m\u001b[0;34m]\u001b[0m \u001b[0;32mand\u001b[0m \u001b[0mabs\u001b[0m\u001b[0;34m(\u001b[0m\u001b[0mi\u001b[0m\u001b[0;34m-\u001b[0m\u001b[0mj\u001b[0m\u001b[0;34m)\u001b[0m\u001b[0;34m<=\u001b[0m\u001b[0mk\u001b[0m\u001b[0;34m:\u001b[0m\u001b[0;34m\u001b[0m\u001b[0;34m\u001b[0m\u001b[0m\n",
            "\u001b[0;31mUnboundLocalError\u001b[0m: local variable 'i' referenced before assignment"
          ]
        }
      ]
    }
  ]
}