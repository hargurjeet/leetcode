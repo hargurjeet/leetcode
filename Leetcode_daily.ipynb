{
  "nbformat": 4,
  "nbformat_minor": 0,
  "metadata": {
    "colab": {
      "name": "Leetcode.ipynb",
      "provenance": [],
      "authorship_tag": "ABX9TyMGOfIe7mzv5CfhXpNF9mIu",
      "include_colab_link": true
    },
    "kernelspec": {
      "name": "python3",
      "display_name": "Python 3"
    },
    "language_info": {
      "name": "python"
    }
  },
  "cells": [
    {
      "cell_type": "markdown",
      "metadata": {
        "id": "view-in-github",
        "colab_type": "text"
      },
      "source": [
        "<a href=\"https://colab.research.google.com/github/hargurjeet/leetcode/blob/main/Leetcode_daily.ipynb\" target=\"_parent\"><img src=\"https://colab.research.google.com/assets/colab-badge.svg\" alt=\"Open In Colab\"/></a>"
      ]
    },
    {
      "cell_type": "code",
      "execution_count": 1,
      "metadata": {
        "id": "5QWq4wUu8V2j"
      },
      "outputs": [],
      "source": [
        "import pandas as pd\n",
        "import numpy as np"
      ]
    },
    {
      "cell_type": "code",
      "source": [
        "items = [[\"phone\",\"blue\",\"pixel\"],[\"computer\",\"silver\",\"phone\"],[\"phone\",\"gold\",\"iphone\"]]\n",
        "ruleKey = \"type\"\n",
        "ruleValue = \"phone\"\n",
        "\n",
        "def countMatches(items, ruleKey, ruleValue):\n",
        "  count=0\n",
        "  for item in items:\n",
        "    if ruleKey == 'type' and ruleValue== item[0]:\n",
        "      count +=1\n",
        "    elif ruleKey == 'color' and ruleValue== item[1]:\n",
        "      count +=1\n",
        "    elif ruleKey == 'name' and ruleValue== item[2]:\n",
        "      count +=1\n",
        "\n",
        "  return count   \n",
        "  \n",
        "countMatches(items, ruleKey, ruleValue)"
      ],
      "metadata": {
        "id": "dfhfK5I_8crp",
        "outputId": "1b214cb5-ffbc-4172-bf47-0b631603abe6",
        "colab": {
          "base_uri": "https://localhost:8080/"
        }
      },
      "execution_count": 2,
      "outputs": [
        {
          "output_type": "execute_result",
          "data": {
            "text/plain": [
              "2"
            ]
          },
          "metadata": {},
          "execution_count": 2
        }
      ]
    },
    {
      "cell_type": "code",
      "source": [
        "# acaM8LLN5BhK9UL8"
      ],
      "metadata": {
        "id": "Odaeutt5BRZb"
      },
      "execution_count": 3,
      "outputs": []
    },
    {
      "cell_type": "code",
      "source": [
        "s = \"is2 sentence4 This1 a3\"\n",
        "\n",
        "def sortSentence(str):\n",
        "  result={}\n",
        "  for letter in s.split():\n",
        "    result[letter[-1]] = letter[:-1]\n",
        "\n",
        "  return ' '.join([result[values] for values in sorted(result.keys())])\n",
        "\n",
        "sortSentence(str)"
      ],
      "metadata": {
        "id": "xjy24TlmEKun"
      },
      "execution_count": null,
      "outputs": []
    },
    {
      "cell_type": "code",
      "source": [
        "nums = [-2,1,-3,4,-1,2,1,-5,4]\n",
        "\n",
        "def maxSubArray(nums):\n",
        "\n",
        "  cur = float('-inf')\n",
        "  theMax = float('-inf')\n",
        "        \n",
        "  for i in nums:\n",
        "      cur = max(i, i + cur)\n",
        "      theMax = max(cur, theMax)\n",
        "      print(cur, theMax)\n",
        "      \n",
        "      \n",
        "  return theMax\n",
        "\n",
        "\n",
        "maxSubArray(nums)"
      ],
      "metadata": {
        "id": "SIOnCHa5FGPc",
        "colab": {
          "base_uri": "https://localhost:8080/"
        },
        "outputId": "0db5ff94-1de7-4823-e684-5620486ace24"
      },
      "execution_count": 13,
      "outputs": [
        {
          "output_type": "stream",
          "name": "stdout",
          "text": [
            "-2 -2\n",
            "1 1\n",
            "-2 1\n",
            "4 4\n",
            "3 4\n",
            "5 5\n",
            "6 6\n",
            "1 6\n",
            "5 6\n"
          ]
        },
        {
          "output_type": "execute_result",
          "data": {
            "text/plain": [
              "6"
            ]
          },
          "metadata": {},
          "execution_count": 13
        }
      ]
    },
    {
      "cell_type": "code",
      "source": [
        "import re\n",
        "\n",
        "s ='A man, a plan, a canal: Panama'\n",
        "x =  re.split(\"[^a-zA-Z]\", s)\n",
        "# x = re.split(\"[^A-Za-z0-9]\", s)\n",
        "x\n"
      ],
      "metadata": {
        "colab": {
          "base_uri": "https://localhost:8080/"
        },
        "id": "Pt7LAgXvaa7A",
        "outputId": "2d407489-61e1-4248-e479-fa60dfaa1fa2"
      },
      "execution_count": 21,
      "outputs": [
        {
          "output_type": "execute_result",
          "data": {
            "text/plain": [
              "['A', 'man', '', 'a', 'plan', '', 'a', 'canal', '', 'Panama']"
            ]
          },
          "metadata": {},
          "execution_count": 21
        }
      ]
    },
    {
      "cell_type": "code",
      "source": [
        "y='stuff;thing;junk;'\n",
        "\n",
        "Z = y.split(';')\n",
        "Z"
      ],
      "metadata": {
        "colab": {
          "base_uri": "https://localhost:8080/"
        },
        "id": "Ur2Kb66IkMvj",
        "outputId": "e6ac3064-244b-452e-d64e-497fec04c387"
      },
      "execution_count": 5,
      "outputs": [
        {
          "output_type": "execute_result",
          "data": {
            "text/plain": [
              "['stuff', 'thing', 'junk', '']"
            ]
          },
          "metadata": {},
          "execution_count": 5
        }
      ]
    },
    {
      "cell_type": "code",
      "source": [
        "list(reversed(range(1,11)))"
      ],
      "metadata": {
        "colab": {
          "base_uri": "https://localhost:8080/"
        },
        "id": "ssy-mXjFMZbe",
        "outputId": "a5122777-4ac4-4732-e371-9d12d832104e"
      },
      "execution_count": 8,
      "outputs": [
        {
          "output_type": "execute_result",
          "data": {
            "text/plain": [
              "[10, 9, 8, 7, 6, 5, 4, 3, 2, 1]"
            ]
          },
          "metadata": {},
          "execution_count": 8
        }
      ]
    },
    {
      "cell_type": "code",
      "source": [
        "x = {1,2,3,4,5}\n",
        "x.add(5)\n",
        "x.add(6)"
      ],
      "metadata": {
        "id": "_fEikUU9M4xx"
      },
      "execution_count": 9,
      "outputs": []
    },
    {
      "cell_type": "code",
      "source": [
        "x"
      ],
      "metadata": {
        "colab": {
          "base_uri": "https://localhost:8080/"
        },
        "id": "5xAJoc7uOnJ5",
        "outputId": "22260a09-a36f-4476-88f9-51358f9b34a7"
      },
      "execution_count": 10,
      "outputs": [
        {
          "output_type": "execute_result",
          "data": {
            "text/plain": [
              "{1, 2, 3, 4, 5, 6}"
            ]
          },
          "metadata": {},
          "execution_count": 10
        }
      ]
    },
    {
      "cell_type": "code",
      "source": [
        "nums = [\"3\",\"6\",\"7\",\"10\"]\n",
        "\n",
        "# nums = [3,6,7,10]\n",
        "k = 4\n",
        "\n",
        "def kthLargestNumber(nums, k):\n",
        "  nums = [int(x) for x in nums]\n",
        "  nums = sorted(nums, reverse=True)\n",
        "  print(nums[k-1])\n",
        "\n",
        "kthLargestNumber(nums, k)"
      ],
      "metadata": {
        "colab": {
          "base_uri": "https://localhost:8080/"
        },
        "id": "7F1ZiywBOoLj",
        "outputId": "3e7e2799-9ec6-4d24-e38d-3e14b795c1c3"
      },
      "execution_count": 21,
      "outputs": [
        {
          "output_type": "stream",
          "name": "stdout",
          "text": [
            "3\n"
          ]
        }
      ]
    },
    {
      "cell_type": "code",
      "source": [
        "fibonachi_series = 0, 1, 1, 2, 3, 5, 8, 13, 21, 34\n",
        "\n",
        "n=3\n",
        "def fib(n):\n",
        "  f_series=0\n",
        "  result=[]\n",
        "  for x in range(10):\n",
        "    f_series = f_series + x\n",
        "    result.append(f_series)\n",
        "  return result\n",
        "\n",
        "fib(n)\n"
      ],
      "metadata": {
        "colab": {
          "base_uri": "https://localhost:8080/"
        },
        "id": "31OFgJ7Th7D7",
        "outputId": "05390633-6e4c-4508-8245-d3e74f3708d0"
      },
      "execution_count": 32,
      "outputs": [
        {
          "output_type": "execute_result",
          "data": {
            "text/plain": [
              "[0, 1, 3, 6, 10, 15, 21, 28, 36, 45]"
            ]
          },
          "metadata": {},
          "execution_count": 32
        }
      ]
    },
    {
      "cell_type": "code",
      "source": [
        "\n",
        "def fib(n):\n",
        "  a = 0\n",
        "  b = 1\n",
        "  if n ==1:\n",
        "    print(a)\n",
        "  else:\n",
        "    series=[a,b]\n",
        "  \n",
        "  for num in range(2,n):\n",
        "    c = a + b\n",
        "    a=b\n",
        "    b=c\n",
        "    print(series.append(c))\n",
        "\n",
        "fib(5)\n",
        "\n",
        "  "
      ],
      "metadata": {
        "id": "ZGyEoZFElsiR",
        "outputId": "2282df85-ef07-4708-eff4-281ee2c3f7ce",
        "colab": {
          "base_uri": "https://localhost:8080/"
        }
      },
      "execution_count": 13,
      "outputs": [
        {
          "output_type": "stream",
          "name": "stdout",
          "text": [
            "None\n",
            "None\n",
            "None\n"
          ]
        }
      ]
    },
    {
      "cell_type": "code",
      "source": [
        "def fib(n):\n",
        "  if n<=1:\n",
        "    return n\n",
        "  else:\n",
        "    fibo_series=[0,1]\n",
        "    for i in range(2,n+1):\n",
        "      num = sum(fibo_series)\n",
        "      fibo_series[0]=fibo_series[1]\n",
        "      fibo_series[1]=num\n",
        "\n",
        "  return fibo_series[-1]\n",
        "\n",
        "\n",
        "\n",
        "fib(7)"
      ],
      "metadata": {
        "id": "wuijQ1H1tN_g",
        "outputId": "a2a139e7-57df-433b-c399-4f60eaecf84e",
        "colab": {
          "base_uri": "https://localhost:8080/"
        }
      },
      "execution_count": 22,
      "outputs": [
        {
          "output_type": "execute_result",
          "data": {
            "text/plain": [
              "13"
            ]
          },
          "metadata": {},
          "execution_count": 22
        }
      ]
    },
    {
      "cell_type": "code",
      "source": [
        ""
      ],
      "metadata": {
        "id": "WTmo052lWlnp"
      },
      "execution_count": null,
      "outputs": []
    }
  ]
}